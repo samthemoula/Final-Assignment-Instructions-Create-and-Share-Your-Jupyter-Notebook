{
 "cells": [
  {
   "cell_type": "markdown",
   "id": "ca283707-9c74-43f3-9a33-847b0d70d3e7",
   "metadata": {},
   "source": [
    "# Data Science Tools and Ecosystem"
   ]
  },
  {
   "cell_type": "markdown",
   "id": "b6ea6d63-a31a-4dd4-8ab3-60209f798873",
   "metadata": {},
   "source": [
    "#### ___In this notebook, Data Science Tools and Ecosystem are summarized.___\n"
   ]
  },
  {
   "cell_type": "markdown",
   "id": "7f760acc-abb7-4252-b195-2a5cdd0e0d40",
   "metadata": {},
   "source": [
    "### _Objectives:_\n",
    "\n",
    "- List popular languages for Data Science\n",
    "- List commonly used librarires used by data scientists\n",
    "- List comonly used Data science tools\n"
   ]
  },
  {
   "cell_type": "markdown",
   "id": "cb018453-ef86-4747-84be-2f3ca737c4f6",
   "metadata": {},
   "source": [
    "Some of the popular languages that Data Scientists use are :\n",
    "\n",
    "1. Python \n",
    "2. R\n",
    "3. SQL\n",
    "4. Scala\n",
    "5. Julia"
   ]
  },
  {
   "cell_type": "markdown",
   "id": "49cefd6e-f146-4146-b7f8-34d2596b4e75",
   "metadata": {
    "jp-MarkdownHeadingCollapsed": true
   },
   "source": [
    "Some of the commonly used libraries used by Data Scientists include:\n",
    "\n",
    "1. pandas \n",
    "2. ggplot\n",
    "3. numpy"
   ]
  },
  {
   "cell_type": "markdown",
   "id": "8e2b34e0-b8c9-484b-a50d-0ad2b3b765f4",
   "metadata": {},
   "source": [
    "### Below are a few examples of evaluating arithmetic expressions in Python.\n",
    "\n",
    "|Data Science Tools|\n",
    "--------------------\n",
    "| Jupiter Notebook|\n",
    "|R Studio|\n",
    "|Spyder|"
   ]
  },
  {
   "cell_type": "code",
   "execution_count": 47,
   "id": "690a7625-f4ed-4560-b565-a20b8093ba0a",
   "metadata": {},
   "outputs": [
    {
     "data": {
      "text/plain": [
       "17"
      ]
     },
     "execution_count": 47,
     "metadata": {},
     "output_type": "execute_result"
    }
   ],
   "source": [
    "#This a simple arithmetic expression to mutiply then add integers\n",
    "\n",
    "(3*4)+5"
   ]
  },
  {
   "cell_type": "code",
   "execution_count": 53,
   "id": "647007d2-319f-4200-9ac7-5e6c4c1cfee9",
   "metadata": {},
   "outputs": [
    {
     "data": {
      "text/plain": [
       "3.3333333333333335"
      ]
     },
     "execution_count": 53,
     "metadata": {},
     "output_type": "execute_result"
    }
   ],
   "source": [
    "#This will convert 200 minutes to hours by diving by 60\n",
    "\n",
    "def minutes_in_hour(m):\n",
    "    return m/60\n",
    "minutes_in_hour(200)\n",
    "    "
   ]
  },
  {
   "cell_type": "markdown",
   "id": "8cae5238-fb39-48b7-87e0-4860f8594070",
   "metadata": {},
   "source": [
    "## Author \n",
    "Samy\n"
   ]
  }
 ],
 "metadata": {
  "kernelspec": {
   "display_name": "Python 3 (ipykernel)",
   "language": "python",
   "name": "python3"
  },
  "language_info": {
   "codemirror_mode": {
    "name": "ipython",
    "version": 3
   },
   "file_extension": ".py",
   "mimetype": "text/x-python",
   "name": "python",
   "nbconvert_exporter": "python",
   "pygments_lexer": "ipython3",
   "version": "3.11.7"
  }
 },
 "nbformat": 4,
 "nbformat_minor": 5
}
